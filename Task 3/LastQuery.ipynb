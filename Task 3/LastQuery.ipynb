{
 "cells": [
  {
   "cell_type": "code",
   "execution_count": 1,
   "metadata": {
    "collapsed": true
   },
   "outputs": [],
   "source": [
    "dfc = sqlContext.read.load('file:////home/cloudera/Documents/words_counts.csv', \n",
    "                          format='com.databricks.spark.csv', \n",
    "                          header='true', \n",
    "                          inferSchema='true')"
   ]
  },
  {
   "cell_type": "code",
   "execution_count": 2,
   "metadata": {
    "collapsed": false
   },
   "outputs": [
    {
     "name": "stdout",
     "output_type": "stream",
     "text": [
      "+--------------------+-----+\n",
      "|            HashTags|Count|\n",
      "+--------------------+-----+\n",
      "|                 fre|    1|\n",
      "|          lesmoutins|    1|\n",
      "|             20h2017|    1|\n",
      "|            fran�ais|    1|\n",
      "|         immigration|    1|\n",
      "|            postureo|    1|\n",
      "|             refugee|    1|\n",
      "|            debattf1|    1|\n",
      "|            wauquier|    1|\n",
      "|                oups|    1|\n",
      "|     jeanlouisborloo|    1|\n",
      "|            criminel|    1|\n",
      "|        pr�sidencefn|    1|\n",
      "|        choisirlafra|    1|\n",
      "|         islamisevil|    1|\n",
      "|                fall|    1|\n",
      "|                 dlr|    1|\n",
      "|          vivefrance|    1|\n",
      "|electionpresident...|    1|\n",
      "|             zemmour|    1|\n",
      "+--------------------+-----+\n",
      "only showing top 20 rows\n",
      "\n"
     ]
    }
   ],
   "source": [
    "dfc.show()"
   ]
  },
  {
   "cell_type": "code",
   "execution_count": 3,
   "metadata": {
    "collapsed": false
   },
   "outputs": [
    {
     "name": "stderr",
     "output_type": "stream",
     "text": [
      "/usr/lib/spark/python/pyspark/sql/dataframe.py:142: UserWarning: Use registerTempTable instead of registerAsTable.\n",
      "  warnings.warn(\"Use registerTempTable instead of registerAsTable.\")\n"
     ]
    }
   ],
   "source": [
    "dfc.registerAsTable('train1_table')\n",
    "dfd = sqlContext.sql('SELECT * FROM train1_table ORDER BY Count DESC LIMIT 50')"
   ]
  },
  {
   "cell_type": "code",
   "execution_count": 4,
   "metadata": {
    "collapsed": false
   },
   "outputs": [],
   "source": [
    "df = sqlContext.read.load('file:////home/cloudera/Documents/ht_tz1.csv', \n",
    "                          format='com.databricks.spark.csv', \n",
    "                          header='true', \n",
    "                          inferSchema='true')"
   ]
  },
  {
   "cell_type": "code",
   "execution_count": 15,
   "metadata": {
    "collapsed": false
   },
   "outputs": [
    {
     "name": "stdout",
     "output_type": "stream",
     "text": [
      "+---------------+--------------------+\n",
      "|       HashTags|           TimeZones|\n",
      "+---------------+--------------------+\n",
      "|        muslims|Atlantic Time (Ca...|\n",
      "|          fexit|Central Time (US ...|\n",
      "|            fre|Pacific Time (US ...|\n",
      "|   choosefrance|Central Time (US ...|\n",
      "|     lesmoutins|               Paris|\n",
      "|     democratie|   Paris;  Amsterdam|\n",
      "|        20h2017|              Athens|\n",
      "|       fran�ais|           Greenland|\n",
      "|    immigration|               Paris|\n",
      "|presidentielle2|Ljubljana;  Hawai...|\n",
      "|       postureo|              Madrid|\n",
      "|        refugee|                Bern|\n",
      "|       debattf1|              Athens|\n",
      "|           cost|Eastern Time (US ...|\n",
      "|       wauquier|               Paris|\n",
      "|           oups|Pacific Time (US ...|\n",
      "|jeanlouisborloo|              Athens|\n",
      "|       criminel|                Bern|\n",
      "|       imtheone|Eastern Time (US ...|\n",
      "|         fachos|Atlantic Time (Ca...|\n",
      "+---------------+--------------------+\n",
      "only showing top 20 rows\n",
      "\n"
     ]
    }
   ],
   "source": [
    "df.show()"
   ]
  },
  {
   "cell_type": "code",
   "execution_count": 6,
   "metadata": {
    "collapsed": false,
    "scrolled": false
   },
   "outputs": [
    {
     "name": "stderr",
     "output_type": "stream",
     "text": [
      "/usr/lib/spark/python/pyspark/sql/dataframe.py:142: UserWarning: Use registerTempTable instead of registerAsTable.\n",
      "  warnings.warn(\"Use registerTempTable instead of registerAsTable.\")\n"
     ]
    },
    {
     "data": {
      "text/plain": [
       "50"
      ]
     },
     "execution_count": 6,
     "metadata": {},
     "output_type": "execute_result"
    }
   ],
   "source": [
    "dfd.registerAsTable('train_table123')\n",
    "df.registerAsTable('train_table12')\n",
    "df1 = sqlContext.sql('SELECT train_table123.HashTags, TimeZones FROM train_table123 JOIN train_table12 ON train_table12.HashTags = train_table123.HashTags')\n",
    "df1.count()"
   ]
  },
  {
   "cell_type": "code",
   "execution_count": 7,
   "metadata": {
    "collapsed": false
   },
   "outputs": [],
   "source": [
    "dfcd = sqlContext.read.load('file:////home/cloudera/Documents/INPUT.csv', \n",
    "                          format='com.databricks.spark.csv', \n",
    "                          header='true', \n",
    "                          inferSchema='true')\n"
   ]
  },
  {
   "cell_type": "code",
   "execution_count": 8,
   "metadata": {
    "collapsed": false
   },
   "outputs": [
    {
     "name": "stdout",
     "output_type": "stream",
     "text": [
      "+-------------+--------------------+\n",
      "|     HashTags|           TimeZones|\n",
      "+-------------+--------------------+\n",
      "|        lepen|           Amsterdam|\n",
      "|         jevo|           Amsterdam|\n",
      "|    explicite|              Athens|\n",
      "|       runoff|Central Time (US ...|\n",
      "|          mfa|Central Time (US ...|\n",
      "|        lepen|Central Time (US ...|\n",
      "|         onpc|Pacific Time (US ...|\n",
      "|     insoumis|Pacific Time (US ...|\n",
      "|sansmoile7mai|               Paris|\n",
      "|        hamon|Pacific Time (US ...|\n",
      "|sansmoile7mai|Pacific Time (US ...|\n",
      "|   marine2017|Eastern Time (US ...|\n",
      "|  marinelepen|Eastern Time (US ...|\n",
      "|   elysee2017|Eastern Time (US ...|\n",
      "|       mlpnda|Eastern Time (US ...|\n",
      "|         e1we|Eastern Time (US ...|\n",
      "|        bfmtv|               Paris|\n",
      "|       macron|               Paris|\n",
      "|        lepen|              Athens|\n",
      "|  marinelepen|Pacific Time (US ...|\n",
      "+-------------+--------------------+\n",
      "only showing top 20 rows\n",
      "\n"
     ]
    }
   ],
   "source": [
    "dfcd.show()"
   ]
  },
  {
   "cell_type": "code",
   "execution_count": 9,
   "metadata": {
    "collapsed": false,
    "scrolled": false
   },
   "outputs": [
    {
     "name": "stderr",
     "output_type": "stream",
     "text": [
      "/usr/lib/spark/python/pyspark/sql/dataframe.py:142: UserWarning: Use registerTempTable instead of registerAsTable.\n",
      "  warnings.warn(\"Use registerTempTable instead of registerAsTable.\")\n"
     ]
    }
   ],
   "source": [
    "dfcd.registerAsTable('train_tableA')\n",
    "dfs = sqlContext.sql('SELECT HashTags, COUNT(*) AS COUNT_VAL FROM train_tableA GROUP BY HashTags ORDER BY COUNT_VAL DESC')\n",
    "dfs.registerAsTable('train_tableB')\n",
    "#dfx = sqlContext.sql('SELECT * FROM train_tableA ') "
   ]
  },
  {
   "cell_type": "code",
   "execution_count": 10,
   "metadata": {
    "collapsed": false
   },
   "outputs": [
    {
     "name": "stdout",
     "output_type": "stream",
     "text": [
      "+--------------------+-------------+---------+\n",
      "|           TimeZones|     HashTags|COUNT_VAL|\n",
      "+--------------------+-------------+---------+\n",
      "|               Paris|  marinelepen|      314|\n",
      "|           Hong Kong|       macron|        2|\n",
      "|              Athens|          rdl|        1|\n",
      "|Eastern Time (US ...|        hamon|        1|\n",
      "|Pacific Time (US ...|           rt|        3|\n",
      "|              Sydney|        china|       15|\n",
      "|        Mid-Atlantic|           fn|        2|\n",
      "|           Amsterdam| papefrancois|        1|\n",
      "|               Paris|      oradour|       17|\n",
      "|            Brussels| infopunaises|        1|\n",
      "|               Paris|  7maisansmoi|        2|\n",
      "|Eastern Time (US ...|   jevotepour|        3|\n",
      "|Mountain Time (US...|       merkel|        3|\n",
      "|            Istanbul|   france2017|        1|\n",
      "|              Athens|     gardanne|        7|\n",
      "|              Athens|          lci|        3|\n",
      "|           Greenland|morandiniblog|        1|\n",
      "|Pacific Time (US ...|         cpol|        3|\n",
      "|Pacific Time (US ...|        grece|        1|\n",
      "|           Greenland|          tf1|       19|\n",
      "+--------------------+-------------+---------+\n",
      "only showing top 20 rows\n",
      "\n"
     ]
    }
   ],
   "source": [
    "df_res = sqlContext.sql('SELECT TimeZones, HashTags, count(*) AS COUNT_VAL FROM train_tableA GROUP BY HashTags, TimeZones')\n",
    "df_res.show()"
   ]
  },
  {
   "cell_type": "code",
   "execution_count": 11,
   "metadata": {
    "collapsed": false,
    "scrolled": true
   },
   "outputs": [
    {
     "name": "stderr",
     "output_type": "stream",
     "text": [
      "/usr/lib/spark/python/pyspark/sql/dataframe.py:142: UserWarning: Use registerTempTable instead of registerAsTable.\n",
      "  warnings.warn(\"Use registerTempTable instead of registerAsTable.\")\n"
     ]
    },
    {
     "name": "stdout",
     "output_type": "stream",
     "text": [
      "+--------------------+-----------------------------+\n",
      "|           TimeZones|COUNT_OF_TOP_TRENDING_HASHTAG|\n",
      "+--------------------+-----------------------------+\n",
      "|               Paris|                          959|\n",
      "|Pacific Time (US ...|                          764|\n",
      "|              Athens|                          260|\n",
      "|           Amsterdam|                          207|\n",
      "|Eastern Time (US ...|                          161|\n",
      "|              London|                          110|\n",
      "|           Greenland|                          104|\n",
      "|Central Time (US ...|                           85|\n",
      "|           Ljubljana|                           50|\n",
      "|                 UTC|                           45|\n",
      "|              Hawaii|                           44|\n",
      "|Atlantic Time (Ca...|                           40|\n",
      "|            Brussels|                           34|\n",
      "|            Belgrade|                           25|\n",
      "|Mountain Time (US...|                           24|\n",
      "|                Rome|                           22|\n",
      "|                Bern|                           22|\n",
      "|              Sydney|                           17|\n",
      "|          Casablanca|                           16|\n",
      "|             Arizona|                           15|\n",
      "+--------------------+-----------------------------+\n",
      "only showing top 20 rows\n",
      "\n"
     ]
    }
   ],
   "source": [
    "df_res.registerAsTable('train_tableABC')\n",
    "df_r = sqlContext.sql('SELECT TimeZones, MAX(COUNT_VAL) AS COUNT_OF_TOP_TRENDING_HASHTAG FROM train_tableABC GROUP BY TimeZones ORDER BY COUNT_OF_TOP_TRENDING_HASHTAG DESC')\n",
    "df_r.show()"
   ]
  },
  {
   "cell_type": "code",
   "execution_count": 12,
   "metadata": {
    "collapsed": false
   },
   "outputs": [
    {
     "data": {
      "text/plain": [
       "130"
      ]
     },
     "execution_count": 12,
     "metadata": {},
     "output_type": "execute_result"
    }
   ],
   "source": [
    "df_r.count()"
   ]
  },
  {
   "cell_type": "code",
   "execution_count": 16,
   "metadata": {
    "collapsed": false,
    "scrolled": true
   },
   "outputs": [],
   "source": [
    "df.coalesce(1).write.format(\"com.databricks.spark.csv\").option(\"header\", \"true\").save(\"VIS.csv\")"
   ]
  },
  {
   "cell_type": "code",
   "execution_count": 14,
   "metadata": {
    "collapsed": false
   },
   "outputs": [],
   "source": [
    "dfcd.coalesce(1).write.format(\"com.databricks.spark.csv\").option(\"header\", \"true\").save(\"TASK3_OP_SUP123.csv\")"
   ]
  }
 ],
 "metadata": {
  "kernelspec": {
   "display_name": "Python 3",
   "language": "python",
   "name": "python3"
  },
  "language_info": {
   "codemirror_mode": {
    "name": "ipython",
    "version": 3
   },
   "file_extension": ".py",
   "mimetype": "text/x-python",
   "name": "python",
   "nbconvert_exporter": "python",
   "pygments_lexer": "ipython3",
   "version": "3.5.1"
  }
 },
 "nbformat": 4,
 "nbformat_minor": 0
}
