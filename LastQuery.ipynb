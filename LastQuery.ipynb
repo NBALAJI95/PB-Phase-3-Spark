{
 "cells": [
  {
   "cell_type": "code",
   "execution_count": 28,
   "metadata": {
    "collapsed": true
   },
   "outputs": [],
   "source": [
    "dfc = sqlContext.read.load('file:////home/cloudera/Documents/words_counts.csv', \n",
    "                          format='com.databricks.spark.csv', \n",
    "                          header='true', \n",
    "                          inferSchema='true')"
   ]
  },
  {
   "cell_type": "code",
   "execution_count": 29,
   "metadata": {
    "collapsed": false
   },
   "outputs": [
    {
     "name": "stdout",
     "output_type": "stream",
     "text": [
      "+--------------------+-----+\n",
      "|            HashTags|Count|\n",
      "+--------------------+-----+\n",
      "|                 fre|    1|\n",
      "|          lesmoutins|    1|\n",
      "|             20h2017|    1|\n",
      "|            fran�ais|    1|\n",
      "|         immigration|    1|\n",
      "|            postureo|    1|\n",
      "|             refugee|    1|\n",
      "|            debattf1|    1|\n",
      "|            wauquier|    1|\n",
      "|                oups|    1|\n",
      "|     jeanlouisborloo|    1|\n",
      "|            criminel|    1|\n",
      "|        pr�sidencefn|    1|\n",
      "|        choisirlafra|    1|\n",
      "|         islamisevil|    1|\n",
      "|                fall|    1|\n",
      "|                 dlr|    1|\n",
      "|          vivefrance|    1|\n",
      "|electionpresident...|    1|\n",
      "|             zemmour|    1|\n",
      "+--------------------+-----+\n",
      "only showing top 20 rows\n",
      "\n"
     ]
    }
   ],
   "source": [
    "dfc.show()"
   ]
  },
  {
   "cell_type": "code",
   "execution_count": 30,
   "metadata": {
    "collapsed": false
   },
   "outputs": [
    {
     "name": "stderr",
     "output_type": "stream",
     "text": [
      "/usr/lib/spark/python/pyspark/sql/dataframe.py:142: UserWarning: Use registerTempTable instead of registerAsTable.\n",
      "  warnings.warn(\"Use registerTempTable instead of registerAsTable.\")\n"
     ]
    },
    {
     "data": {
      "text/plain": [
       "50"
      ]
     },
     "execution_count": 30,
     "metadata": {},
     "output_type": "execute_result"
    }
   ],
   "source": [
    "dfc.registerAsTable('train1_table')\n",
    "dfd = sqlContext.sql('SELECT * FROM train1_table ORDER BY Count DESC LIMIT 50')\n",
    "dfd.distinct().count()"
   ]
  },
  {
   "cell_type": "code",
   "execution_count": 32,
   "metadata": {
    "collapsed": false
   },
   "outputs": [],
   "source": [
    "df = sqlContext.read.load('file:////home/cloudera/Documents/ht_tz1.csv', \n",
    "                          format='com.databricks.spark.csv', \n",
    "                          header='true', \n",
    "                          inferSchema='true')"
   ]
  },
  {
   "cell_type": "code",
   "execution_count": 33,
   "metadata": {
    "collapsed": false
   },
   "outputs": [
    {
     "name": "stdout",
     "output_type": "stream",
     "text": [
      "root\n",
      " |-- HashTags: string (nullable = true)\n",
      " |-- TimeZones: string (nullable = true)\n",
      "\n"
     ]
    }
   ],
   "source": [
    "df.printSchema()"
   ]
  },
  {
   "cell_type": "code",
   "execution_count": 34,
   "metadata": {
    "collapsed": false,
    "scrolled": false
   },
   "outputs": [
    {
     "name": "stderr",
     "output_type": "stream",
     "text": [
      "/usr/lib/spark/python/pyspark/sql/dataframe.py:142: UserWarning: Use registerTempTable instead of registerAsTable.\n",
      "  warnings.warn(\"Use registerTempTable instead of registerAsTable.\")\n"
     ]
    },
    {
     "name": "stdout",
     "output_type": "stream",
     "text": [
      "+--------------------+--------------------+\n",
      "|            HashTags|           TimeZones|\n",
      "+--------------------+--------------------+\n",
      "|                 nda|Ljubljana;  Paris...|\n",
      "|      frenchelection|Pacific Time (US ...|\n",
      "|          elysee2017|Pacific Time (US ...|\n",
      "|           whirlpool|Ljubljana;  Paris...|\n",
      "|     rejoignezmarine|Ljubljana;  Madri...|\n",
      "|      emmanuelmacron|Pacific Time (US ...|\n",
      "|              france|Pacific Time (US ...|\n",
      "|                  fn|Pacific Time (US ...|\n",
      "|           melenchon|Ljubljana;  Paris...|\n",
      "|               lepen|Pacific Time (US ...|\n",
      "|electionpresident...|Ljubljana;  Paris...|\n",
      "|              mlpnda|Pacific Time (US ...|\n",
      "|        degagemacron|Pacific Time (US ...|\n",
      "|     7maicontrelepen|Ljubljana;  Paris...|\n",
      "|       sortonsmacron|Ljubljana;  Paris...|\n",
      "|                 mlp|Nuku\\alofa;  Ljub...|\n",
      "|               bfmtv|Nuku\\alofa;  Ljub...|\n",
      "|            hollande|Paris;  Pacific T...|\n",
      "|            insoumis|Ljubljana;  Madri...|\n",
      "|              1ermai|Ljubljana;  Paris...|\n",
      "+--------------------+--------------------+\n",
      "only showing top 20 rows\n",
      "\n"
     ]
    }
   ],
   "source": [
    "dfd.registerAsTable('train_table123')\n",
    "df.registerAsTable('train_table12')\n",
    "df1 = sqlContext.sql('SELECT train_table123.HashTags, TimeZones FROM train_table123 JOIN train_table12 ON train_table12.HashTags = train_table123.HashTags')\n",
    "df1.show()"
   ]
  },
  {
   "cell_type": "code",
   "execution_count": 6,
   "metadata": {
    "collapsed": false
   },
   "outputs": [],
   "source": [
    "dfcd = sqlContext.read.load('file:////home/cloudera/Documents/INPUT.csv', \n",
    "                          format='com.databricks.spark.csv', \n",
    "                          header='true', \n",
    "                          inferSchema='true')\n"
   ]
  },
  {
   "cell_type": "code",
   "execution_count": 23,
   "metadata": {
    "collapsed": false
   },
   "outputs": [
    {
     "name": "stdout",
     "output_type": "stream",
     "text": [
      "+-------------+--------------------+\n",
      "|     HashTags|           TimeZones|\n",
      "+-------------+--------------------+\n",
      "|        lepen|           Amsterdam|\n",
      "|         jevo|           Amsterdam|\n",
      "|    explicite|              Athens|\n",
      "|       runoff|Central Time (US ...|\n",
      "|          mfa|Central Time (US ...|\n",
      "|        lepen|Central Time (US ...|\n",
      "|         onpc|Pacific Time (US ...|\n",
      "|     insoumis|Pacific Time (US ...|\n",
      "|sansmoile7mai|               Paris|\n",
      "|        hamon|Pacific Time (US ...|\n",
      "|sansmoile7mai|Pacific Time (US ...|\n",
      "|   marine2017|Eastern Time (US ...|\n",
      "|  marinelepen|Eastern Time (US ...|\n",
      "|   elysee2017|Eastern Time (US ...|\n",
      "|       mlpnda|Eastern Time (US ...|\n",
      "|         e1we|Eastern Time (US ...|\n",
      "|        bfmtv|               Paris|\n",
      "|       macron|               Paris|\n",
      "|        lepen|              Athens|\n",
      "|  marinelepen|Pacific Time (US ...|\n",
      "+-------------+--------------------+\n",
      "only showing top 20 rows\n",
      "\n"
     ]
    }
   ],
   "source": [
    "dfcd.show()"
   ]
  },
  {
   "cell_type": "code",
   "execution_count": 36,
   "metadata": {
    "collapsed": false,
    "scrolled": true
   },
   "outputs": [
    {
     "name": "stderr",
     "output_type": "stream",
     "text": [
      "/usr/lib/spark/python/pyspark/sql/dataframe.py:142: UserWarning: Use registerTempTable instead of registerAsTable.\n",
      "  warnings.warn(\"Use registerTempTable instead of registerAsTable.\")\n"
     ]
    },
    {
     "name": "stdout",
     "output_type": "stream",
     "text": [
      "+-------------+--------------------+\n",
      "|     HashTags|           TimeZones|\n",
      "+-------------+--------------------+\n",
      "|        lepen|           Amsterdam|\n",
      "|         jevo|           Amsterdam|\n",
      "|    explicite|              Athens|\n",
      "|       runoff|Central Time (US ...|\n",
      "|          mfa|Central Time (US ...|\n",
      "|        lepen|Central Time (US ...|\n",
      "|         onpc|Pacific Time (US ...|\n",
      "|     insoumis|Pacific Time (US ...|\n",
      "|sansmoile7mai|               Paris|\n",
      "|        hamon|Pacific Time (US ...|\n",
      "|sansmoile7mai|Pacific Time (US ...|\n",
      "|   marine2017|Eastern Time (US ...|\n",
      "|  marinelepen|Eastern Time (US ...|\n",
      "|   elysee2017|Eastern Time (US ...|\n",
      "|       mlpnda|Eastern Time (US ...|\n",
      "|         e1we|Eastern Time (US ...|\n",
      "|        bfmtv|               Paris|\n",
      "|       macron|               Paris|\n",
      "|        lepen|              Athens|\n",
      "|  marinelepen|Pacific Time (US ...|\n",
      "+-------------+--------------------+\n",
      "only showing top 20 rows\n",
      "\n"
     ]
    }
   ],
   "source": [
    "dfcd.registerAsTable('train_tableA')\n",
    "dfs = sqlContext.sql('SELECT HashTags, COUNT(*) AS COUNT_VAL FROM train_tableA GROUP BY HashTags')\n",
    "dfs.registerAsTable('train_tableB')\n",
    "dfx = sqlContext.sql('SELECT * FROM train_tableA ') \n",
    "dfx.show()\n"
   ]
  },
  {
   "cell_type": "code",
   "execution_count": 27,
   "metadata": {
    "collapsed": false
   },
   "outputs": [
    {
     "name": "stderr",
     "output_type": "stream",
     "text": [
      "/usr/lib/spark/python/pyspark/sql/dataframe.py:142: UserWarning: Use registerTempTable instead of registerAsTable.\n",
      "  warnings.warn(\"Use registerTempTable instead of registerAsTable.\")\n"
     ]
    },
    {
     "name": "stdout",
     "output_type": "stream",
     "text": [
      "+------------------+----+\n",
      "|          HashTags|  MX|\n",
      "+------------------+----+\n",
      "|             lepen|3250|\n",
      "|            macron|2124|\n",
      "|       marinelepen|1412|\n",
      "|             jt20h|1365|\n",
      "|         m�lenchon| 776|\n",
      "|                fn| 664|\n",
      "|            fillon| 589|\n",
      "|      dupontaignan| 557|\n",
      "|presidentielle2017| 456|\n",
      "|            france| 410|\n",
      "|               20h| 400|\n",
      "|        marine2017| 340|\n",
      "|            mlpnda| 313|\n",
      "|               tf1| 270|\n",
      "|          enmarche| 265|\n",
      "|    emmanuelmacron| 243|\n",
      "|   rejoignezmarine| 231|\n",
      "|pr�sidentielle2017| 210|\n",
      "|         melenchon| 208|\n",
      "|      jevotemarine| 203|\n",
      "+------------------+----+\n",
      "only showing top 20 rows\n",
      "\n"
     ]
    }
   ],
   "source": [
    "dfx.registerAsTable('train_tableC')\n",
    "dfy = sqlContext.sql('SELECT HashTags, MAX(COUNT_VAL) AS MX FROM train_tableC GROUP BY HashTags ORDER BY MX DESC') \n",
    "dfy.show()"
   ]
  },
  {
   "cell_type": "code",
   "execution_count": 35,
   "metadata": {
    "collapsed": false
   },
   "outputs": [
    {
     "data": {
      "text/plain": [
       "50"
      ]
     },
     "execution_count": 35,
     "metadata": {},
     "output_type": "execute_result"
    }
   ],
   "source": [
    "df1.count()"
   ]
  }
 ],
 "metadata": {
  "kernelspec": {
   "display_name": "Python 3",
   "language": "python",
   "name": "python3"
  },
  "language_info": {
   "codemirror_mode": {
    "name": "ipython",
    "version": 3
   },
   "file_extension": ".py",
   "mimetype": "text/x-python",
   "name": "python",
   "nbconvert_exporter": "python",
   "pygments_lexer": "ipython3",
   "version": "3.5.1"
  }
 },
 "nbformat": 4,
 "nbformat_minor": 0
}
