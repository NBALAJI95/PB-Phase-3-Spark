{
 "cells": [
  {
   "cell_type": "code",
   "execution_count": 14,
   "metadata": {
    "collapsed": true
   },
   "outputs": [],
   "source": [
    "dfc = sqlContext.read.load('file:////home/cloudera/Downloads/INPUT(2).csv', \n",
    "                          format='com.databricks.spark.csv', \n",
    "                          header='true', \n",
    "                          inferSchema='true')"
   ]
  },
  {
   "cell_type": "code",
   "execution_count": 15,
   "metadata": {
    "collapsed": false
   },
   "outputs": [],
   "source": [
    "#dfc.show()"
   ]
  },
  {
   "cell_type": "code",
   "execution_count": 16,
   "metadata": {
    "collapsed": false,
    "scrolled": false
   },
   "outputs": [
    {
     "name": "stderr",
     "output_type": "stream",
     "text": [
      "/usr/lib/spark/python/pyspark/sql/dataframe.py:142: UserWarning: Use registerTempTable instead of registerAsTable.\n",
      "  warnings.warn(\"Use registerTempTable instead of registerAsTable.\")\n"
     ]
    },
    {
     "name": "stdout",
     "output_type": "stream",
     "text": [
      "+----------------+--------+--------------+--------+------------+\n",
      "|User_Screen_Name|Verified|Follower_Count|Language|Tweets_Count|\n",
      "+----------------+--------+--------------+--------+------------+\n",
      "|       Le_Figaro|    True|       2619517|      fr|      316441|\n",
      "|       Le_Figaro|    True|       2619516|      fr|      316440|\n",
      "|       Le_Figaro|    True|       2619453|      fr|      316437|\n",
      "|           afpfr|    True|       2617129|      fr|      291518|\n",
      "|            libe|    True|       2492213|      fr|      121959|\n",
      "|       20Minutes|    True|       2238648|      fr|      202479|\n",
      "|       20Minutes|    True|       2237885|      fr|      202403|\n",
      "|           BFMTV|    True|       2150453|      fr|      218543|\n",
      "|           BFMTV|    True|       2150452|      fr|      218538|\n",
      "|           BFMTV|    True|       2150451|      fr|      218539|\n",
      "+----------------+--------+--------------+--------+------------+\n",
      "only showing top 10 rows\n",
      "\n"
     ]
    }
   ],
   "source": [
    "dfc.registerAsTable('train_table')\n",
    "df12 = sqlContext.sql('SELECT * from train_table WHERE Follower_Count > 4000 AND Verified = \"True\" ORDER BY Follower_Count desc')\n",
    "df12.show(10)"
   ]
  },
  {
   "cell_type": "code",
   "execution_count": 17,
   "metadata": {
    "collapsed": false
   },
   "outputs": [
    {
     "name": "stderr",
     "output_type": "stream",
     "text": [
      "/usr/lib/spark/python/pyspark/sql/dataframe.py:142: UserWarning: Use registerTempTable instead of registerAsTable.\n",
      "  warnings.warn(\"Use registerTempTable instead of registerAsTable.\")\n"
     ]
    }
   ],
   "source": [
    "df12.registerAsTable('train_table1')\n",
    "df1 = sqlContext.sql('SELECT User_Screen_Name, MAX(Follower_Count) - MIN(Follower_Count) AS FOLLOWER_COUNT_INCREASE from train_table1 GROUP BY User_Screen_Name')"
   ]
  },
  {
   "cell_type": "code",
   "execution_count": 18,
   "metadata": {
    "collapsed": false
   },
   "outputs": [],
   "source": [
    "df1 = df1.filter(df1[\"FOLLOWER_COUNT_INCREASE\"] > 0)"
   ]
  },
  {
   "cell_type": "code",
   "execution_count": 19,
   "metadata": {
    "collapsed": false
   },
   "outputs": [
    {
     "name": "stderr",
     "output_type": "stream",
     "text": [
      "/usr/lib/spark/python/pyspark/sql/dataframe.py:142: UserWarning: Use registerTempTable instead of registerAsTable.\n",
      "  warnings.warn(\"Use registerTempTable instead of registerAsTable.\")\n"
     ]
    }
   ],
   "source": [
    "df1.registerAsTable('train_tableFin')\n",
    "df1 = sqlContext.sql('SELECT * FROM train_tableFin ORDER BY FOLLOWER_COUNT_INCREASE DESC')"
   ]
  },
  {
   "cell_type": "code",
   "execution_count": 20,
   "metadata": {
    "collapsed": false
   },
   "outputs": [],
   "source": [
    "#df1.coalesce(1).write.format(\"com.databricks.spark.csv\").option(\"header\", \"true\").save(\"FOLLOWER_COUNT_INCREASE.csv\")"
   ]
  },
  {
   "cell_type": "code",
   "execution_count": 21,
   "metadata": {
    "collapsed": false
   },
   "outputs": [
    {
     "name": "stderr",
     "output_type": "stream",
     "text": [
      "/usr/lib/spark/python/pyspark/sql/dataframe.py:142: UserWarning: Use registerTempTable instead of registerAsTable.\n",
      "  warnings.warn(\"Use registerTempTable instead of registerAsTable.\")\n"
     ]
    }
   ],
   "source": [
    "sqlContext.sql('SELECT * FROM train_table1 ORDER BY Tweets_Count DESC').registerAsTable('table_Pop')"
   ]
  },
  {
   "cell_type": "code",
   "execution_count": 22,
   "metadata": {
    "collapsed": false
   },
   "outputs": [],
   "source": [
    "pop_users_tweet = sqlContext.sql('SELECT User_Screen_Name, MAX(Tweets_Count) AS TWEET_COUNT FROM table_Pop GROUP BY User_Screen_Name ORDER BY TWEET_COUNT DESC')"
   ]
  },
  {
   "cell_type": "code",
   "execution_count": 23,
   "metadata": {
    "collapsed": true
   },
   "outputs": [],
   "source": [
    "pop_users_tweet.coalesce(1).write.format(\"com.databricks.spark.csv\").option(\"header\", \"true\").save(\"TOP_USERS_TWEET_COUNT1.csv\")\n",
    "#df.write.format(\"com.stratio.datasource.mongodb\").mode('append').options(host=mongodb, database=dbname, collection=colname, idField='_id', splitKey='_id').save()"
   ]
  },
  {
   "cell_type": "code",
   "execution_count": 24,
   "metadata": {
    "collapsed": false
   },
   "outputs": [
    {
     "name": "stdout",
     "output_type": "stream",
     "text": [
      "+----------------+-----------+\n",
      "|User_Screen_Name|TWEET_COUNT|\n",
      "+----------------+-----------+\n",
      "| NoticiasVenezue|    1956713|\n",
      "|   Limportant_fr|     532949|\n",
      "|       Le_Figaro|     316441|\n",
      "|           afpfr|     291518|\n",
      "|           BFMTV|     218543|\n",
      "|       RTLFrance|     209051|\n",
      "|       20Minutes|     202479|\n",
      "|     le_Parisien|     194072|\n",
      "|           CNEWS|     193156|\n",
      "|         Europe1|     191482|\n",
      "|    RadioFreeTom|     188210|\n",
      "|            eNCA|     188183|\n",
      "|      SputnikInt|     180648|\n",
      "| LaRazon_Bolivia|     164665|\n",
      "|      franceinfo|     163061|\n",
      "+----------------+-----------+\n",
      "only showing top 15 rows\n",
      "\n"
     ]
    }
   ],
   "source": [
    "pop_users_tweet.show(15)"
   ]
  }
 ],
 "metadata": {
  "kernelspec": {
   "display_name": "Python 3",
   "language": "python",
   "name": "python3"
  },
  "language_info": {
   "codemirror_mode": {
    "name": "ipython",
    "version": 3
   },
   "file_extension": ".py",
   "mimetype": "text/x-python",
   "name": "python",
   "nbconvert_exporter": "python",
   "pygments_lexer": "ipython3",
   "version": "3.5.1"
  }
 },
 "nbformat": 4,
 "nbformat_minor": 0
}
