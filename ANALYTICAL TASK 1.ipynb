{
 "cells": [
  {
   "cell_type": "code",
   "execution_count": 2,
   "metadata": {
    "collapsed": true
   },
   "outputs": [],
   "source": [
    "dfc = sqlContext.read.load('file:////home/cloudera/Downloads/INPUT(2).csv', \n",
    "                          format='com.databricks.spark.csv', \n",
    "                          header='true', \n",
    "                          inferSchema='true')"
   ]
  },
  {
   "cell_type": "code",
   "execution_count": 7,
   "metadata": {
    "collapsed": false
   },
   "outputs": [
    {
     "name": "stdout",
     "output_type": "stream",
     "text": [
      "+----------------+--------+--------------+--------+------------+\n",
      "|User_Screen_Name|Verified|Follower_Count|Language|Tweets_Count|\n",
      "+----------------+--------+--------------+--------+------------+\n",
      "|    JP_Tisserand|   False|          1154|      fr|        1665|\n",
      "|       marieecha|   False|          2321|      en|       83330|\n",
      "|  paris_insoumis|   False|          2241|      fr|       10699|\n",
      "|     Judiedixon3|   False|           540|      en|       28217|\n",
      "|   mariama4niang|   False|           600|      fr|       26004|\n",
      "|          jdpt62|   False|           103|      fr|          53|\n",
      "| ricardotejada19|   False|           570|      es|       13181|\n",
      "|   DanielPilotte|   False|         13196|      fr|      638764|\n",
      "|        lmt93zoo|   False|          1090|      fr|       20414|\n",
      "|        pat00005|   False|            17|      en|           4|\n",
      "|      SeylliBens|   False|           501|      fr|       22200|\n",
      "|       kanelle77|   False|          2433|      fr|       96613|\n",
      "|     fch29421033|   False|            40|      fr|        3878|\n",
      "| Richard_LRenard|   False|           243|      fr|       13049|\n",
      "| 181a2812136e437|   False|           122|      fr|       11803|\n",
      "|  gillesjezequel|   False|            46|      fr|        1423|\n",
      "|       Talisarya|   False|           115|      fr|       11391|\n",
      "|  Antigone_75013|   False|           953|      fr|        7892|\n",
      "|      frenchmymy|   False|           104|      fr|         795|\n",
      "|       ChanjourM|   False|           630|      fr|       72765|\n",
      "+----------------+--------+--------------+--------+------------+\n",
      "only showing top 20 rows\n",
      "\n"
     ]
    }
   ],
   "source": [
    "dfc.show()"
   ]
  },
  {
   "cell_type": "code",
   "execution_count": 24,
   "metadata": {
    "collapsed": false
   },
   "outputs": [
    {
     "name": "stderr",
     "output_type": "stream",
     "text": [
      "/usr/lib/spark/python/pyspark/sql/dataframe.py:142: UserWarning: Use registerTempTable instead of registerAsTable.\n",
      "  warnings.warn(\"Use registerTempTable instead of registerAsTable.\")\n"
     ]
    },
    {
     "name": "stdout",
     "output_type": "stream",
     "text": [
      "+----------------+--------+--------------+--------+------------+\n",
      "|User_Screen_Name|Verified|Follower_Count|Language|Tweets_Count|\n",
      "+----------------+--------+--------------+--------+------------+\n",
      "|       Le_Figaro|    True|       2619517|      fr|      316441|\n",
      "|       Le_Figaro|    True|       2619516|      fr|      316440|\n",
      "|       Le_Figaro|    True|       2619453|      fr|      316437|\n",
      "|           afpfr|    True|       2617129|      fr|      291518|\n",
      "|            libe|    True|       2492213|      fr|      121959|\n",
      "|       20Minutes|    True|       2238648|      fr|      202479|\n",
      "|       20Minutes|    True|       2237885|      fr|      202403|\n",
      "|           BFMTV|    True|       2150453|      fr|      218543|\n",
      "|           BFMTV|    True|       2150452|      fr|      218538|\n",
      "|           BFMTV|    True|       2150451|      fr|      218539|\n",
      "+----------------+--------+--------------+--------+------------+\n",
      "only showing top 10 rows\n",
      "\n"
     ]
    }
   ],
   "source": [
    "dfc.registerAsTable('train_table')\n",
    "df12 = sqlContext.sql('SELECT * from train_table WHERE Follower_Count > 4000 AND Verified = \"True\" ORDER BY Follower_Count desc')\n",
    "df12.show(10)"
   ]
  },
  {
   "cell_type": "code",
   "execution_count": 16,
   "metadata": {
    "collapsed": false
   },
   "outputs": [
    {
     "name": "stderr",
     "output_type": "stream",
     "text": [
      "/usr/lib/spark/python/pyspark/sql/dataframe.py:142: UserWarning: Use registerTempTable instead of registerAsTable.\n",
      "  warnings.warn(\"Use registerTempTable instead of registerAsTable.\")\n"
     ]
    },
    {
     "name": "stdout",
     "output_type": "stream",
     "text": [
      "+----------------+-----------------------+\n",
      "|User_Screen_Name|FOLLOWER_COUNT_INCREASE|\n",
      "+----------------+-----------------------+\n",
      "| michaelianblack|                      0|\n",
      "|           Nagui|                     15|\n",
      "|   JJBourdin_RMC|                      0|\n",
      "|    salzburg_com|                      0|\n",
      "|  timothycsimons|                      0|\n",
      "|     jeangeorges|                      0|\n",
      "|           rubin|                      6|\n",
      "|      RenaudDely|                      0|\n",
      "| YasmineBouchene|                      0|\n",
      "|         Voodart|                      0|\n",
      "|  EmmanuelMacron|                      0|\n",
      "| julienmielcarek|                      0|\n",
      "|       Midilibre|                      0|\n",
      "|         JBollee|                      9|\n",
      "|      senateur61|                      0|\n",
      "|   RachelDonadio|                      0|\n",
      "| Marion_M_Le_Pen|                      0|\n",
      "| jleonardelli_fn|                      0|\n",
      "|       manjusrii|                      0|\n",
      "|           CNEWS|                      0|\n",
      "+----------------+-----------------------+\n",
      "only showing top 20 rows\n",
      "\n"
     ]
    }
   ],
   "source": [
    "df12.registerAsTable('train_table1')\n",
    "df1 = sqlContext.sql('SELECT User_Screen_Name, MAX(Follower_Count) - MIN(Follower_Count) AS FOLLOWER_COUNT_INCREASE from train_table1 GROUP BY User_Screen_Name')"
   ]
  },
  {
   "cell_type": "code",
   "execution_count": 19,
   "metadata": {
    "collapsed": false
   },
   "outputs": [
    {
     "name": "stdout",
     "output_type": "stream",
     "text": [
      "root\n",
      " |-- User_Screen_Name: string (nullable = true)\n",
      " |-- FOLLOWER_COUNT_INCREASE: integer (nullable = true)\n",
      "\n"
     ]
    }
   ],
   "source": [
    "df1 = df1.filter(df1[\"FOLLOWER_COUNT_INCREASE\"] > 0)"
   ]
  },
  {
   "cell_type": "code",
   "execution_count": 38,
   "metadata": {
    "collapsed": false
   },
   "outputs": [
    {
     "name": "stderr",
     "output_type": "stream",
     "text": [
      "/usr/lib/spark/python/pyspark/sql/dataframe.py:142: UserWarning: Use registerTempTable instead of registerAsTable.\n",
      "  warnings.warn(\"Use registerTempTable instead of registerAsTable.\")\n"
     ]
    },
    {
     "data": {
      "text/plain": [
       "52"
      ]
     },
     "execution_count": 38,
     "metadata": {},
     "output_type": "execute_result"
    }
   ],
   "source": [
    "df1.registerAsTable('train_tableFin')\n",
    "df1 = sqlContext.sql('SELECT * FROM train_tableFin ORDER BY FOLLOWER_COUNT_INCREASE DESC')\n",
    "df1.count()"
   ]
  },
  {
   "cell_type": "code",
   "execution_count": 41,
   "metadata": {
    "collapsed": false
   },
   "outputs": [],
   "source": [
    "df1.coalesce(1).write.format(\"com.databricks.spark.csv\").option(\"header\", \"true\").save(\"FOLLOWER_COUNT_INCREASE.csv\")"
   ]
  },
  {
   "cell_type": "code",
   "execution_count": 28,
   "metadata": {
    "collapsed": false
   },
   "outputs": [
    {
     "name": "stderr",
     "output_type": "stream",
     "text": [
      "/usr/lib/spark/python/pyspark/sql/dataframe.py:142: UserWarning: Use registerTempTable instead of registerAsTable.\n",
      "  warnings.warn(\"Use registerTempTable instead of registerAsTable.\")\n"
     ]
    }
   ],
   "source": [
    "sqlContext.sql('SELECT * FROM train_table1 ORDER BY Tweets_Count DESC').registerAsTable('table_Pop')"
   ]
  },
  {
   "cell_type": "code",
   "execution_count": 36,
   "metadata": {
    "collapsed": false
   },
   "outputs": [],
   "source": [
    "pop_users_tweet = sqlContext.sql('SELECT User_Screen_Name, MAX(Tweets_Count) AS TWEET_COUNT FROM table_Pop GROUP BY User_Screen_Name ORDER BY TWEET_COUNT DESC')"
   ]
  },
  {
   "cell_type": "code",
   "execution_count": 39,
   "metadata": {
    "collapsed": true
   },
   "outputs": [],
   "source": [
    "pop_users_tweet.coalesce(1).write.format(\"com.databricks.spark.csv\").option(\"header\", \"true\").save(\"TOP_USERS_TWEET_COUNT.csv\")"
   ]
  },
  {
   "cell_type": "code",
   "execution_count": 37,
   "metadata": {
    "collapsed": false
   },
   "outputs": [
    {
     "name": "stdout",
     "output_type": "stream",
     "text": [
      "+----------------+-----------+\n",
      "|User_Screen_Name|TWEET_COUNT|\n",
      "+----------------+-----------+\n",
      "| NoticiasVenezue|    1956713|\n",
      "|   Limportant_fr|     532949|\n",
      "|       Le_Figaro|     316441|\n",
      "|           afpfr|     291518|\n",
      "|           BFMTV|     218543|\n",
      "|       RTLFrance|     209051|\n",
      "|       20Minutes|     202479|\n",
      "|     le_Parisien|     194072|\n",
      "|           CNEWS|     193156|\n",
      "|         Europe1|     191482|\n",
      "|    RadioFreeTom|     188210|\n",
      "|            eNCA|     188183|\n",
      "|      SputnikInt|     180648|\n",
      "| LaRazon_Bolivia|     164665|\n",
      "|      franceinfo|     163061|\n",
      "+----------------+-----------+\n",
      "only showing top 15 rows\n",
      "\n"
     ]
    }
   ],
   "source": [
    "pop_users_tweet.show(15)"
   ]
  }
 ],
 "metadata": {
  "kernelspec": {
   "display_name": "Python 3",
   "language": "python",
   "name": "python3"
  },
  "language_info": {
   "codemirror_mode": {
    "name": "ipython",
    "version": 3
   },
   "file_extension": ".py",
   "mimetype": "text/x-python",
   "name": "python",
   "nbconvert_exporter": "python",
   "pygments_lexer": "ipython3",
   "version": "3.5.1"
  }
 },
 "nbformat": 4,
 "nbformat_minor": 0
}
