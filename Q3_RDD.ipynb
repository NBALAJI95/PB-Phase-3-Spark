{
 "cells": [
  {
   "cell_type": "code",
   "execution_count": 1,
   "metadata": {
    "collapsed": false
   },
   "outputs": [
    {
     "data": {
      "text/plain": [
       "['lepen,Amsterdam',\n",
       " 'jevo,Amsterdam',\n",
       " 'explicite,Athens',\n",
       " 'runoff,Central Time (US & Canada)',\n",
       " 'mfa,Central Time (US & Canada)']"
      ]
     },
     "execution_count": 1,
     "metadata": {},
     "output_type": "execute_result"
    }
   ],
   "source": [
    "lines = sc.textFile(\"hdfs:/user/cloudera/INPUT.txt\")\n",
    "lines.take(5)"
   ]
  },
  {
   "cell_type": "code",
   "execution_count": 2,
   "metadata": {
    "collapsed": true
   },
   "outputs": [],
   "source": [
    "def tupMaker(inp):\n",
    "    t = inp.split(',')\n",
    "    return (t[0], t[1])"
   ]
  },
  {
   "cell_type": "code",
   "execution_count": 16,
   "metadata": {
    "collapsed": false
   },
   "outputs": [
    {
     "data": {
      "text/plain": [
       "[('lepen', 'Amsterdam'),\n",
       " ('jevo', 'Amsterdam'),\n",
       " ('explicite', 'Athens'),\n",
       " ('runoff', 'Central Time (US & Canada)'),\n",
       " ('mfa', 'Central Time (US & Canada)'),\n",
       " ('lepen', 'Central Time (US & Canada)'),\n",
       " ('onpc', 'Pacific Time (US & Canada)'),\n",
       " ('insoumis', 'Pacific Time (US & Canada)'),\n",
       " ('sansmoile7mai', 'Paris'),\n",
       " ('hamon', 'Pacific Time (US & Canada)')]"
      ]
     },
     "execution_count": 16,
     "metadata": {},
     "output_type": "execute_result"
    }
   ],
   "source": [
    "words = lines.map(tupMaker)\n",
    "words.sortByKey()\n",
    "words.take(10)"
   ]
  },
  {
   "cell_type": "code",
   "execution_count": 40,
   "metadata": {
    "collapsed": false
   },
   "outputs": [
    {
     "data": {
      "text/plain": [
       "[('gardanne', 'London'),\n",
       " ('fn', 'Athens'),\n",
       " ('donaldtrump', 'Saskatchewan'),\n",
       " ('fakenews', 'Paris'),\n",
       " ('vivelafrance', 'Rome')]"
      ]
     },
     "execution_count": 40,
     "metadata": {},
     "output_type": "execute_result"
    }
   ],
   "source": [
    "w = words.distinct()\n",
    "w.take(5)"
   ]
  },
  {
   "cell_type": "code",
   "execution_count": 5,
   "metadata": {
    "collapsed": false
   },
   "outputs": [
    {
     "data": {
      "text/plain": [
       "[('lepen', 1),\n",
       " ('jevo', 1),\n",
       " ('explicite', 1),\n",
       " ('runoff', 1),\n",
       " ('mfa', 1),\n",
       " ('lepen', 1),\n",
       " ('onpc', 1),\n",
       " ('insoumis', 1),\n",
       " ('sansmoile7mai', 1),\n",
       " ('hamon', 1)]"
      ]
     },
     "execution_count": 5,
     "metadata": {},
     "output_type": "execute_result"
    }
   ],
   "source": [
    "words_hashtags = words.map(lambda v: (v[0], 1))\n",
    "words_hashtags.take(10)"
   ]
  },
  {
   "cell_type": "code",
   "execution_count": null,
   "metadata": {
    "collapsed": true
   },
   "outputs": [],
   "source": [
    "#newRDD.takeOrdered(2, key=lambda x: -x[2])"
   ]
  },
  {
   "cell_type": "code",
   "execution_count": 63,
   "metadata": {
    "collapsed": false
   },
   "outputs": [
    {
     "data": {
      "text/plain": [
       "[('muslims',\n",
       "  ['Atlantic Time (Canada)',\n",
       "   'Pacific Time (US & Canada)',\n",
       "   'Central Time (US & Canada)']),\n",
       " ('fexit', ['Central Time (US & Canada)', 'Eastern Time (US & Canada)']),\n",
       " ('fre', ['Pacific Time (US & Canada)']),\n",
       " ('choosefrance',\n",
       "  ['Central Time (US & Canada)',\n",
       "   'Pacific Time (US & Canada)',\n",
       "   'Eastern Time (US & Canada)',\n",
       "   'Quito']),\n",
       " ('lesmoutins', ['Paris']),\n",
       " ('democratie', ['Paris', 'Amsterdam']),\n",
       " ('20h2017', ['Athens']),\n",
       " ('fran�ais', ['Greenland']),\n",
       " ('immigration', ['Paris']),\n",
       " ('presidentielle2',\n",
       "  ['Ljubljana', 'Hawaii', 'Pacific Time (US & Canada)', 'Amsterdam'])]"
      ]
     },
     "execution_count": 63,
     "metadata": {},
     "output_type": "execute_result"
    }
   ],
   "source": [
    "words = words.filter(lambda a: len(a[0])>=1)\n",
    "xy = words.groupByKey().map(lambda x : (x[0], list(x[1])))\n",
    "xy = xy.map(lambda a: (a[0], list(set(a[1]))))\n",
    "xy.take(10)"
   ]
  },
  {
   "cell_type": "code",
   "execution_count": null,
   "metadata": {
    "collapsed": true
   },
   "outputs": [],
   "source": []
  },
  {
   "cell_type": "code",
   "execution_count": 19,
   "metadata": {
    "collapsed": false
   },
   "outputs": [
    {
     "data": {
      "text/plain": [
       "2370"
      ]
     },
     "execution_count": 19,
     "metadata": {},
     "output_type": "execute_result"
    }
   ],
   "source": [
    "counts = words_hashtags.reduceByKey(lambda a,b: (a+b))\n",
    "counts.take(5)\n",
    "counts.count()"
   ]
  },
  {
   "cell_type": "code",
   "execution_count": 38,
   "metadata": {
    "collapsed": false
   },
   "outputs": [
    {
     "data": {
      "text/plain": [
       "[('fre', 1),\n",
       " ('lesmoutins', 1),\n",
       " ('20h2017', 1),\n",
       " ('fran�ais', 1),\n",
       " ('immigration', 1),\n",
       " ('postureo', 1),\n",
       " ('refugee', 1),\n",
       " ('debattf1', 1),\n",
       " ('wauquier', 1),\n",
       " ('oups', 1)]"
      ]
     },
     "execution_count": 38,
     "metadata": {},
     "output_type": "execute_result"
    }
   ],
   "source": [
    "res = counts.filter(lambda a: len(a[0])>=1)\n",
    "bSorted = res.sortBy(lambda a: a[1])\n",
    "bSorted.take(10)"
   ]
  },
  {
   "cell_type": "code",
   "execution_count": 59,
   "metadata": {
    "collapsed": true
   },
   "outputs": [],
   "source": []
  },
  {
   "cell_type": "code",
   "execution_count": 64,
   "metadata": {
    "collapsed": false
   },
   "outputs": [],
   "source": [
    "xy.coalesce(1).saveAsTextFile('hdfs:/user/cloudera/HT_TZ.txt')"
   ]
  },
  {
   "cell_type": "code",
   "execution_count": 47,
   "metadata": {
    "collapsed": false
   },
   "outputs": [],
   "source": [
    "bSorted.coalesce(1).saveAsTextFile('hdfs:/user/cloudera/OUTPUT_WordCount.txt')"
   ]
  },
  {
   "cell_type": "code",
   "execution_count": 23,
   "metadata": {
    "collapsed": true
   },
   "outputs": [],
   "source": []
  },
  {
   "cell_type": "code",
   "execution_count": 17,
   "metadata": {
    "collapsed": false
   },
   "outputs": [
    {
     "data": {
      "text/plain": [
       "2369"
      ]
     },
     "execution_count": 17,
     "metadata": {},
     "output_type": "execute_result"
    }
   ],
   "source": [
    "res.foreach(comp)"
   ]
  }
 ],
 "metadata": {
  "kernelspec": {
   "display_name": "Python 3",
   "language": "python",
   "name": "python3"
  },
  "language_info": {
   "codemirror_mode": {
    "name": "ipython",
    "version": 3
   },
   "file_extension": ".py",
   "mimetype": "text/x-python",
   "name": "python",
   "nbconvert_exporter": "python",
   "pygments_lexer": "ipython3",
   "version": "3.5.1"
  }
 },
 "nbformat": 4,
 "nbformat_minor": 0
}
